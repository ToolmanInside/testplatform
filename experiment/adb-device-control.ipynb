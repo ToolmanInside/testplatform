{
 "cells": [
  {
   "cell_type": "code",
   "execution_count": 7,
   "id": "c51e897e",
   "metadata": {},
   "outputs": [],
   "source": [
    "import cv2\n",
    "from ppadb.client import Client as AdbClient\n",
    "client = AdbClient(host=\"127.0.0.1\", port=5037)"
   ]
  },
  {
   "cell_type": "code",
   "execution_count": 2,
   "id": "f0d43442",
   "metadata": {},
   "outputs": [],
   "source": [
    "def cap_device_current_gui(device, screen_path=\"screen.jpg\", resize_ratio=3):\n",
    "    screen = device.screencap()\n",
    "    with open(screen_path, \"wb\") as fp:\n",
    "        fp.write(screen)\n",
    "    screen = cv2.imread(screen_path)\n",
    "    screen_resize = cv2.resize(screen, (screen.shape[1] // resize_ratio, screen.shape[0] // resize_ratio))        \n",
    "    return screen_resize"
   ]
  },
  {
   "cell_type": "code",
   "execution_count": 10,
   "id": "ddf20df2",
   "metadata": {},
   "outputs": [],
   "source": [
    "d = client.devices()[0]"
   ]
  },
  {
   "cell_type": "code",
   "execution_count": 14,
   "id": "01ad2616",
   "metadata": {},
   "outputs": [
    {
     "data": {
      "text/plain": [
       "'emulator-5554'"
      ]
     },
     "execution_count": 14,
     "metadata": {},
     "output_type": "execute_result"
    }
   ],
   "source": [
    "d.get_serial_no()"
   ]
  },
  {
   "cell_type": "code",
   "execution_count": 17,
   "id": "6ccfddf3",
   "metadata": {},
   "outputs": [
    {
     "data": {
      "text/plain": [
       "'Size(width=1080, height=2280)'"
      ]
     },
     "execution_count": 17,
     "metadata": {},
     "output_type": "execute_result"
    }
   ],
   "source": [
    "str(d.wm_size())"
   ]
  },
  {
   "cell_type": "code",
   "execution_count": 3,
   "id": "2bafd3d4",
   "metadata": {},
   "outputs": [],
   "source": [
    "device = client.device('emulator-5554')"
   ]
  },
  {
   "cell_type": "code",
   "execution_count": 4,
   "id": "be6f01b8",
   "metadata": {},
   "outputs": [],
   "source": [
    "resize_ratio = 3\n",
    "img = cap_device_current_gui(device, resize_ratio=resize_ratio)"
   ]
  },
  {
   "cell_type": "code",
   "execution_count": 5,
   "id": "b5db579d",
   "metadata": {},
   "outputs": [],
   "source": [
    "x_down, y_down = -1, -1\n",
    "\n",
    "def click_event(event, x, y, flags, params):\n",
    "    global x_down, y_down\n",
    "    \n",
    "    x_dev, y_dev = x * resize_ratio, y * resize_ratio\n",
    "    \n",
    "    if event == cv2.EVENT_LBUTTONDOWN:\n",
    "        x_down, y_down = x_dev, y_dev\n",
    "    elif event == cv2.EVENT_LBUTTONUP:\n",
    "        # swipe or scroll        \n",
    "        if abs(x_down - x_dev) >= 10 or abs(y_down - y_dev) >= 10:\n",
    "            print('Scroll from (%d, %d) to (%d, %d)' %(x_down, y_down, x_dev, y_dev))\n",
    "            device.input_swipe(x_down, y_down, x_dev, y_dev, 500)\n",
    "        # tap\n",
    "        else:\n",
    "            print('Tap (%d, %d)' %(x_down, y_down))\n",
    "            device.input_tap(x_down, y_down)\n",
    "    img = cap_device_current_gui(device, resize_ratio=resize_ratio) \n",
    "    cv2.imshow('screen', img)"
   ]
  },
  {
   "cell_type": "code",
   "execution_count": 6,
   "id": "2f68a5c3",
   "metadata": {},
   "outputs": [
    {
     "name": "stdout",
     "output_type": "stream",
     "text": [
      "Scroll from (585, 1221) to (579, 498)\n",
      "Scroll from (678, 681) to (750, 1344)\n",
      "Tap (273, 387)\n",
      "Scroll from (333, 1182) to (420, 405)\n",
      "Scroll from (666, 423) to (708, 1506)\n",
      "Tap (489, 993)\n"
     ]
    }
   ],
   "source": [
    "cv2.imshow('screen', img)\n",
    "cv2.setMouseCallback('screen', click_event, [resize_ratio])\n",
    "cv2.waitKey()\n",
    "cv2.destroyAllWindows()"
   ]
  },
  {
   "cell_type": "code",
   "execution_count": null,
   "id": "3af248c4",
   "metadata": {},
   "outputs": [],
   "source": []
  },
  {
   "cell_type": "code",
   "execution_count": null,
   "id": "9b63aa5d",
   "metadata": {},
   "outputs": [],
   "source": []
  }
 ],
 "metadata": {
  "kernelspec": {
   "display_name": "Python 3",
   "language": "python",
   "name": "python3"
  },
  "language_info": {
   "codemirror_mode": {
    "name": "ipython",
    "version": 3
   },
   "file_extension": ".py",
   "mimetype": "text/x-python",
   "name": "python",
   "nbconvert_exporter": "python",
   "pygments_lexer": "ipython3",
   "version": "3.6.9"
  }
 },
 "nbformat": 4,
 "nbformat_minor": 5
}
