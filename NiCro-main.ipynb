{
 "cells": [
  {
   "cell_type": "code",
   "execution_count": 1,
   "id": "cf8fa401",
   "metadata": {},
   "outputs": [],
   "source": [
    "from NiCro import NiCro"
   ]
  },
  {
   "cell_type": "code",
   "execution_count": 2,
   "id": "3b8108d8",
   "metadata": {},
   "outputs": [],
   "source": [
    "nicro = NiCro(ocr_opt='google')"
   ]
  },
  {
   "cell_type": "code",
   "execution_count": 3,
   "id": "3404b4fb",
   "metadata": {},
   "outputs": [
    {
     "name": "stdout",
     "output_type": "stream",
     "text": [
      "Load Robot Arm System\n"
     ]
    }
   ],
   "source": [
    "nicro.load_robot()\n",
    "nicro.robot.control_robot_by_clicking_on_cam_video()"
   ]
  },
  {
   "cell_type": "code",
   "execution_count": 3,
   "id": "ff5779bf",
   "metadata": {},
   "outputs": [
    {
     "name": "stdout",
     "output_type": "stream",
     "text": [
      "Load 4 Device Emulators\n",
      "Selected Source Device:\n",
      "Device ID:0 Name:emulator-5554 Resolution:Size(width=2200, height=2480)\n",
      "\n",
      "Device Emulators:\n",
      "Device ID:0 Name:emulator-5554 Resolution:Size(width=2200, height=2480)\n",
      "Device ID:1 Name:emulator-5556 Resolution:Size(width=1080, height=2280)\n",
      "Device ID:2 Name:emulator-5558 Resolution:Size(width=1080, height=1920)\n",
      "Device ID:3 Name:emulator-5560 Resolution:Size(width=480, height=800)\n",
      "No Robot Arm System\n"
     ]
    }
   ],
   "source": [
    "nicro.load_devices()\n",
    "nicro.select_source_device(0)"
   ]
  },
  {
   "cell_type": "code",
   "execution_count": 4,
   "id": "88291196",
   "metadata": {
    "scrolled": true
   },
   "outputs": [
    {
     "name": "stdout",
     "output_type": "stream",
     "text": [
      "****** Device [1 / 4] ******\n",
      "*** Please replace the Google OCR key at detect_text/ocr.py line 28 with your own (apply in https://cloud.google.com/vision) ***\n",
      "[Text Detection Completed in 0.138 s] Input: data/screen/emulator-5554.png Output: data/output/ocr/emulator-5554.json\n",
      "[Compo Detection Completed in 0.603 s] Input: data/screen/emulator-5554.png Output: data/output/ip/emulator-5554.json\n",
      "[Merge Completed] Input: data/screen/emulator-5554.png Output: data/output/merge/emulator-5554.jpg\n",
      "****** Device [2 / 4] ******\n",
      "*** Please replace the Google OCR key at detect_text/ocr.py line 28 with your own (apply in https://cloud.google.com/vision) ***\n",
      "[Text Detection Completed in 0.097 s] Input: data/screen/emulator-5556.png Output: data/output/ocr/emulator-5556.json\n",
      "[Compo Detection Completed in 0.410 s] Input: data/screen/emulator-5556.png Output: data/output/ip/emulator-5556.json\n",
      "[Merge Completed] Input: data/screen/emulator-5556.png Output: data/output/merge/emulator-5556.jpg\n",
      "****** Device [3 / 4] ******\n",
      "*** Please replace the Google OCR key at detect_text/ocr.py line 28 with your own (apply in https://cloud.google.com/vision) ***\n",
      "[Text Detection Completed in 0.084 s] Input: data/screen/emulator-5558.png Output: data/output/ocr/emulator-5558.json\n",
      "[Compo Detection Completed in 0.561 s] Input: data/screen/emulator-5558.png Output: data/output/ip/emulator-5558.json\n",
      "[Merge Completed] Input: data/screen/emulator-5558.png Output: data/output/merge/emulator-5558.jpg\n",
      "****** Device [4 / 4] ******\n",
      "*** Please replace the Google OCR key at detect_text/ocr.py line 28 with your own (apply in https://cloud.google.com/vision) ***\n",
      "[Text Detection Completed in 0.031 s] Input: data/screen/emulator-5560.png Output: data/output/ocr/emulator-5560.json\n",
      "[Compo Detection Completed in 0.567 s] Input: data/screen/emulator-5560.png Output: data/output/ip/emulator-5560.json\n",
      "[Merge Completed] Input: data/screen/emulator-5560.png Output: data/output/merge/emulator-5560.jpg\n"
     ]
    }
   ],
   "source": [
    "nicro.detect_gui_info_for_all_devices(is_load=False, show=True)"
   ]
  },
  {
   "cell_type": "code",
   "execution_count": 8,
   "id": "e6f6a66e",
   "metadata": {},
   "outputs": [],
   "source": [
    "# nicro.control_multiple_devices_through_source_device(is_replay=True)"
   ]
  },
  {
   "cell_type": "code",
   "execution_count": null,
   "id": "5fdd7b51",
   "metadata": {},
   "outputs": [],
   "source": []
  },
  {
   "cell_type": "code",
   "execution_count": 13,
   "id": "da3dfa9a",
   "metadata": {},
   "outputs": [
    {
     "name": "stdout",
     "output_type": "stream",
     "text": [
      "Selected Source Device:\n",
      "Device ID:0 Name:emulator-5554 Resolution:Size(width=2200, height=2480)\n",
      "\n",
      "Device Emulators:\n",
      "Device ID:0 Name:emulator-5554 Resolution:Size(width=2200, height=2480)\n",
      "Device ID:1 Name:emulator-5556 Resolution:Size(width=1080, height=2280)\n",
      "Device ID:2 Name:emulator-5558 Resolution:Size(width=1080, height=1920)\n",
      "Device ID:3 Name:emulator-5560 Resolution:Size(width=480, height=800)\n",
      "No Robot Arm System\n"
     ]
    }
   ],
   "source": [
    "nicro.select_source_device(0)"
   ]
  },
  {
   "cell_type": "code",
   "execution_count": null,
   "id": "ce04d4e4",
   "metadata": {},
   "outputs": [],
   "source": []
  },
  {
   "cell_type": "code",
   "execution_count": 14,
   "id": "bcb841b4",
   "metadata": {},
   "outputs": [],
   "source": [
    "nicro.reset_matching_accuracy()"
   ]
  },
  {
   "cell_type": "code",
   "execution_count": 15,
   "id": "2bc02f61",
   "metadata": {},
   "outputs": [
    {
     "name": "stdout",
     "output_type": "stream",
     "text": [
      "\n",
      "****** Test Round: 1 ******\n",
      "*** Matching Method: sift in Test Round 1 ***\n",
      "Device: emulator-5556 [0. 1. 0. 0.]\n",
      "Device: emulator-5558 [0. 1. 1. 0.]\n",
      "Device: emulator-5560 [0. 1. 1. 0.]\n",
      "*** Matching Method: resnet in Test Round 1 ***\n",
      "Device: emulator-5556 [0. 0. 0. 0.]\n",
      "Device: emulator-5558 [0. 0. 1. 0.]\n",
      "Device: emulator-5560 [0. 0. 1. 1.]\n",
      "*** Matching Method: template-match in Test Round 1 ***\n",
      "Device: emulator-5556 [0. 0. 0. 0.]\n",
      "Device: emulator-5558 [0. 0. 0. 0.]\n",
      "Device: emulator-5560 [0. 0. 0. 0.]\n",
      "*** Matching Method: text in Test Round 1 ***\n",
      "Device: emulator-5556 [0. 1. 0. 0.]\n",
      "Device: emulator-5558 [0. 1. 1. 0.]\n",
      "Device: emulator-5560 [0. 1. 1. 1.]\n",
      "*** Matching Method: nicro in Test Round 1 ***\n",
      "Successfully match element\n",
      "Device: emulator-5556 [0. 1. 0. 0.]\n",
      "Successfully match element\n",
      "Device: emulator-5558 [0. 1. 1. 0.]\n",
      "No element matched\n",
      "Device: emulator-5560 [0. 1. 1. 1.]\n",
      "{'sift': array([0., 1., 1., 0.]), 'resnet': array([0., 0., 1., 1.]), 'template-match': array([0., 0., 0., 0.]), 'text': array([0., 1., 1., 1.]), 'nicro': array([0., 1., 1., 1.])}\n",
      "\n",
      "****** Test Round: 2 ******\n",
      "*** Matching Method: sift in Test Round 2 ***\n",
      "Device: emulator-5556 [0. 2. 1. 0.]\n",
      "Device: emulator-5558 [0. 2. 2. 0.]\n",
      "Device: emulator-5560 [0. 2. 2. 0.]\n",
      "*** Matching Method: resnet in Test Round 2 ***\n",
      "Device: emulator-5556 [0. 1. 1. 1.]\n",
      "Device: emulator-5558 [0. 1. 2. 1.]\n",
      "Device: emulator-5560 [0. 1. 2. 2.]\n",
      "*** Matching Method: template-match in Test Round 2 ***\n",
      "Device: emulator-5556 [0. 0. 0. 0.]\n",
      "Device: emulator-5558 [0. 0. 0. 0.]\n",
      "Device: emulator-5560 [0. 0. 0. 0.]\n",
      "*** Matching Method: text in Test Round 2 ***\n",
      "Device: emulator-5556 [0. 2. 1. 1.]\n",
      "Device: emulator-5558 [0. 2. 2. 1.]\n",
      "Device: emulator-5560 [0. 2. 2. 2.]\n",
      "*** Matching Method: nicro in Test Round 2 ***\n",
      "Successfully match element\n",
      "Device: emulator-5556 [0. 2. 1. 1.]\n",
      "Successfully match element\n",
      "Device: emulator-5558 [0. 2. 2. 1.]\n",
      "Successfully match element\n",
      "Device: emulator-5560 [0. 2. 2. 2.]\n",
      "{'sift': array([0., 2., 2., 0.]), 'resnet': array([0., 1., 2., 2.]), 'template-match': array([0., 0., 0., 0.]), 'text': array([0., 2., 2., 2.]), 'nicro': array([0., 2., 2., 2.])}\n",
      "\n",
      "****** Test Round: 3 ******\n",
      "*** Matching Method: sift in Test Round 3 ***\n",
      "Device: emulator-5556 [0. 3. 2. 0.]\n",
      "Device: emulator-5558 [0. 3. 2. 0.]\n",
      "Device: emulator-5560 [0. 3. 2. 1.]\n",
      "*** Matching Method: resnet in Test Round 3 ***\n",
      "Device: emulator-5556 [0. 2. 2. 2.]\n",
      "Device: emulator-5558 [0. 2. 3. 2.]\n",
      "Device: emulator-5560 [0. 2. 3. 2.]\n",
      "*** Matching Method: template-match in Test Round 3 ***\n",
      "Device: emulator-5556 [0. 0. 0. 0.]\n",
      "Device: emulator-5558 [0. 0. 0. 0.]\n",
      "Device: emulator-5560 [0. 0. 0. 0.]\n",
      "*** Matching Method: text in Test Round 3 ***\n",
      "Device: emulator-5556 [0. 3. 2. 2.]\n",
      "Device: emulator-5558 [0. 3. 3. 2.]\n",
      "Device: emulator-5560 [0. 3. 3. 3.]\n",
      "*** Matching Method: nicro in Test Round 3 ***\n",
      "Successfully match element\n",
      "Device: emulator-5556 [0. 3. 2. 2.]\n",
      "Successfully match element\n",
      "Device: emulator-5558 [0. 3. 3. 2.]\n",
      "Successfully match element\n",
      "Device: emulator-5560 [0. 3. 3. 3.]\n",
      "{'sift': array([0., 3., 2., 1.]), 'resnet': array([0., 2., 3., 2.]), 'template-match': array([0., 0., 0., 0.]), 'text': array([0., 3., 3., 3.]), 'nicro': array([0., 3., 3., 3.])}\n"
     ]
    }
   ],
   "source": [
    "nicro.click_to_match_widgets_cross_devices()"
   ]
  },
  {
   "cell_type": "code",
   "execution_count": 9,
   "id": "a0035415",
   "metadata": {},
   "outputs": [
    {
     "data": {
      "text/plain": [
       "{'sift': array([0., 2., 3., 0.]),\n",
       " 'resnet': array([0., 3., 2., 2.]),\n",
       " 'template-match': array([0., 1., 1., 0.]),\n",
       " 'text': array([0., 3., 3., 2.]),\n",
       " 'nicro': array([0., 3., 3., 2.])}"
      ]
     },
     "execution_count": 9,
     "metadata": {},
     "output_type": "execute_result"
    }
   ],
   "source": [
    "nicro.widget_matching_acc"
   ]
  },
  {
   "cell_type": "code",
   "execution_count": null,
   "id": "0d318a35",
   "metadata": {},
   "outputs": [],
   "source": []
  },
  {
   "cell_type": "code",
   "execution_count": null,
   "id": "b684ed9a",
   "metadata": {},
   "outputs": [],
   "source": []
  },
  {
   "cell_type": "code",
   "execution_count": 29,
   "id": "8be46923",
   "metadata": {},
   "outputs": [],
   "source": [
    "nicro.widget_matching_acc['text'] = [0,0,0,0,0]"
   ]
  },
  {
   "cell_type": "code",
   "execution_count": null,
   "id": "34e4a95e",
   "metadata": {},
   "outputs": [],
   "source": []
  },
  {
   "cell_type": "code",
   "execution_count": 39,
   "id": "1eee2da5",
   "metadata": {},
   "outputs": [],
   "source": [
    "nicro.robot.control_robot_by_clicking_on_cam_video()"
   ]
  },
  {
   "cell_type": "code",
   "execution_count": 40,
   "id": "b7919d27",
   "metadata": {},
   "outputs": [
    {
     "name": "stdout",
     "output_type": "stream",
     "text": [
      "*** Please replace the Google OCR key at detect_text/ocr.py line 28 with your own (apply in https://cloud.google.com/vision) ***\n",
      "[Text Detection Completed in 0.059 s] Input: data/screen/robot_photo.png Output: data/output/ocr/robot_photo.json\n",
      "[Compo Detection Completed in 0.504 s] Input: data/screen/robot_photo.png Output: data/output/ip/robot_photo.json\n",
      "[Merge Completed] Input: data/screen/robot_photo.png Output: data/output/merge/robot_photo.jpg\n"
     ]
    }
   ],
   "source": [
    "nicro.robot.detect_gui_element(nicro.paddle_ocr, show=True, ocr_opt='google')"
   ]
  },
  {
   "cell_type": "code",
   "execution_count": 25,
   "id": "c6af7afc",
   "metadata": {},
   "outputs": [],
   "source": [
    "nicro.robot.GUI.screen.show_clip()"
   ]
  },
  {
   "cell_type": "code",
   "execution_count": null,
   "id": "7cdc2503",
   "metadata": {},
   "outputs": [],
   "source": []
  }
 ],
 "metadata": {
  "kernelspec": {
   "display_name": "Python 3",
   "language": "python",
   "name": "python3"
  },
  "language_info": {
   "codemirror_mode": {
    "name": "ipython",
    "version": 3
   },
   "file_extension": ".py",
   "mimetype": "text/x-python",
   "name": "python",
   "nbconvert_exporter": "python",
   "pygments_lexer": "ipython3",
   "version": "3.6.9"
  }
 },
 "nbformat": 4,
 "nbformat_minor": 5
}
